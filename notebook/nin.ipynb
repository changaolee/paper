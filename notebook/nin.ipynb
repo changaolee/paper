{
 "cells": [
  {
   "cell_type": "code",
   "execution_count": null,
   "id": "bef3470f",
   "metadata": {},
   "outputs": [],
   "source": [
    "import sys\n",
    "sys.path.append('../')"
   ]
  },
  {
   "cell_type": "code",
   "execution_count": null,
   "id": "2e3eddb3",
   "metadata": {},
   "outputs": [],
   "source": [
    "from torchsummary import summary\n",
    "from models.nin import NIN\n",
    "from library.utils import Utils, DataLoader"
   ]
  },
  {
   "cell_type": "code",
   "execution_count": null,
   "id": "fd1b81aa",
   "metadata": {},
   "outputs": [],
   "source": [
    "net = NIN().cuda()\n",
    "\n",
    "summary(net, (1, 224, 224))"
   ]
  },
  {
   "cell_type": "code",
   "execution_count": null,
   "id": "e102de8e",
   "metadata": {},
   "outputs": [],
   "source": [
    "batch_size = 128\n",
    "\n",
    "# 为了将 Fashion-MNIST 适配 NIN，这里将图片 resize 到 224 x 224（通常情况下不会这样做）\n",
    "train_iter, test_iter = DataLoader().load_data_fashion_mnist(batch_size=batch_size, resize=224)\n",
    "\n",
    "lr, num_epochs = 0.05, 10\n",
    "Utils.train(net, train_iter, test_iter, num_epochs, lr, Utils.try_gpu())"
   ]
  },
  {
   "cell_type": "code",
   "execution_count": null,
   "id": "f5f22e2e",
   "metadata": {},
   "outputs": [],
   "source": []
  }
 ],
 "metadata": {
  "kernelspec": {
   "display_name": "Python 3 (ipykernel)",
   "language": "python",
   "name": "python3"
  },
  "language_info": {
   "codemirror_mode": {
    "name": "ipython",
    "version": 3
   },
   "file_extension": ".py",
   "mimetype": "text/x-python",
   "name": "python",
   "nbconvert_exporter": "python",
   "pygments_lexer": "ipython3",
   "version": "3.8.10"
  }
 },
 "nbformat": 4,
 "nbformat_minor": 5
}
