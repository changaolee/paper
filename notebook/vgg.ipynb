{
 "cells": [
  {
   "cell_type": "code",
   "execution_count": null,
   "id": "c6a54e6e",
   "metadata": {},
   "outputs": [],
   "source": [
    "import sys\n",
    "sys.path.append('../')"
   ]
  },
  {
   "cell_type": "code",
   "execution_count": null,
   "id": "b1e82037",
   "metadata": {},
   "outputs": [],
   "source": [
    "from torchsummary import summary\n",
    "from models.vgg import VGG\n",
    "from library.utils import Utils, DataLoader"
   ]
  },
  {
   "cell_type": "code",
   "execution_count": null,
   "id": "68301fde",
   "metadata": {},
   "outputs": [],
   "source": [
    "conv_arch = ((1, 64), (1, 128), (2, 256), (2, 512), (2, 512))\n",
    "\n",
    "# 由于 VGG-11 计算量较大，因此这里构建了一个通道数较少的网络，足够用于训练 Fashion-MNIST 数据集。\n",
    "ratio = 4\n",
    "small_conv_arch = [(pair[0], pair[1] // ratio) for pair in conv_arch]\n",
    "\n",
    "net = VGG(small_conv_arch)\n",
    "\n",
    "summary(net, (1, 224, 224))"
   ]
  },
  {
   "cell_type": "code",
   "execution_count": null,
   "id": "95658dbb",
   "metadata": {},
   "outputs": [],
   "source": [
    "batch_size = 128\n",
    "\n",
    "# 为了将 Fashion-MNIST 适配 VGG，这里将图片 resize 到 224 x 224（通常情况下不会这样做）\n",
    "train_iter, test_iter = DataLoader().load_data_fashion_mnist(batch_size=batch_size, resize=224)\n",
    "\n",
    "lr, num_epochs = 0.05, 20\n",
    "Utils.train(net, train_iter, test_iter, num_epochs, lr, Utils.try_gpu())"
   ]
  },
  {
   "cell_type": "code",
   "execution_count": null,
   "id": "d5cf917d",
   "metadata": {},
   "outputs": [],
   "source": []
  }
 ],
 "metadata": {
  "kernelspec": {
   "display_name": "Python 3 (ipykernel)",
   "language": "python",
   "name": "python3"
  },
  "language_info": {
   "codemirror_mode": {
    "name": "ipython",
    "version": 3
   },
   "file_extension": ".py",
   "mimetype": "text/x-python",
   "name": "python",
   "nbconvert_exporter": "python",
   "pygments_lexer": "ipython3",
   "version": "3.8.10"
  }
 },
 "nbformat": 4,
 "nbformat_minor": 5
}
