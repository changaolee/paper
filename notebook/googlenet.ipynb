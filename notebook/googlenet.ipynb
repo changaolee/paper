{
 "cells": [
  {
   "cell_type": "code",
   "execution_count": null,
   "id": "d52cb695",
   "metadata": {},
   "outputs": [],
   "source": [
    "import sys\n",
    "sys.path.append('../')"
   ]
  },
  {
   "cell_type": "code",
   "execution_count": null,
   "id": "9e453d84",
   "metadata": {},
   "outputs": [],
   "source": [
    "from torchsummary import summary\n",
    "from models.googlenet import GoogLeNet\n",
    "from library.utils import Utils, DataLoader"
   ]
  },
  {
   "cell_type": "code",
   "execution_count": null,
   "id": "dd339744",
   "metadata": {},
   "outputs": [],
   "source": [
    "net = GoogLeNet().cuda()\n",
    "\n",
    "summary(net, (1, 224, 224))"
   ]
  },
  {
   "cell_type": "code",
   "execution_count": null,
   "id": "add0c3cb",
   "metadata": {},
   "outputs": [],
   "source": [
    "batch_size = 128\n",
    "\n",
    "# GoogLeNet 模型的计算复杂，而且不如 VGG 那样便于修改通道数，为了简化运算，这里将图片 resize 到 96 x 96（通常情况下不会这样做）\n",
    "train_iter, test_iter = DataLoader().load_data_fashion_mnist(batch_size=batch_size, resize=96)\n",
    "\n",
    "lr, num_epochs = 0.1, 10\n",
    "Utils.train(net, train_iter, test_iter, num_epochs, lr, Utils.try_gpu())"
   ]
  }
 ],
 "metadata": {
  "kernelspec": {
   "display_name": "Python 3 (ipykernel)",
   "language": "python",
   "name": "python3"
  },
  "language_info": {
   "codemirror_mode": {
    "name": "ipython",
    "version": 3
   },
   "file_extension": ".py",
   "mimetype": "text/x-python",
   "name": "python",
   "nbconvert_exporter": "python",
   "pygments_lexer": "ipython3",
   "version": "3.8.10"
  }
 },
 "nbformat": 4,
 "nbformat_minor": 5
}
